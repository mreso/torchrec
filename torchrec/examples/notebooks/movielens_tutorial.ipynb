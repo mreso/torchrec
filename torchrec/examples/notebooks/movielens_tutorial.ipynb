{
 "cells": [
  {
   "cell_type": "markdown",
   "metadata": {},
   "source": [
    "# torchrec MovieLens Tutorial"
   ]
  },
  {
   "cell_type": "code",
   "execution_count": 6,
   "metadata": {},
   "outputs": [],
   "source": [
    "# ! wget https://files.grouplens.org/datasets/movielens/ml-25m.zip\n",
    "# %load_ext autoreload\n",
    "%autoreload 2\n"
   ]
  },
  {
   "cell_type": "markdown",
   "metadata": {},
   "source": [
    "## Table of contents\n",
    "1. Instantiating MovieLens-25M dataset\n",
    "2. Defining model\n",
    "3. Training and evaluating model\n",
    "4. Finding similar movies"
   ]
  },
  {
   "cell_type": "markdown",
   "metadata": {},
   "source": [
    "## 1. Instantiating MovieLens-25M dataset\n",
    "\n",
    "To start, we can load the MovieLens-25M dataset using `torchrec.datasets.movielens.movielens_25m`. The function loads just the user-movie ratings data in `ratings.csv` by default; we call the function with `include_movies_data=True` such that it adds movie data from `movies.csv` to each user-movie sample."
   ]
  },
  {
   "cell_type": "code",
   "execution_count": 7,
   "metadata": {},
   "outputs": [],
   "source": [
    "# from torchrec.datasets.movielens import movielens_25m\n",
    "\n",
    "# dp = movielens_25m(\"ml-25m\", include_movies_data=True)\n",
    "from movielens import movielens_25m\n",
    "dp = movielens_25m(\"s3://torchrec-movielens-dataset/\", include_movies_data=True)"
   ]
  },
  {
   "cell_type": "markdown",
   "metadata": {},
   "source": [
    "Let's check out a single sample."
   ]
  },
  {
   "cell_type": "code",
   "execution_count": 8,
   "metadata": {},
   "outputs": [
    {
     "data": {
      "text/plain": [
       "{'userId': 1,\n",
       " 'movieId': 296,\n",
       " 'rating': 5.0,\n",
       " 'timestamp': 1147880044,\n",
       " 'title': 'Pulp Fiction (1994)',\n",
       " 'genres': 'Comedy|Crime|Drama|Thriller'}"
      ]
     },
     "execution_count": 8,
     "metadata": {},
     "output_type": "execute_result"
    }
   ],
   "source": [
    "next(iter(dp))"
   ]
  },
  {
   "cell_type": "markdown",
   "metadata": {},
   "source": [
    "Seems reasonable.\n",
    "\n",
    "Next, we instantiate datapipes representing training and validation data splits and apply shuffling and batching."
   ]
  },
  {
   "cell_type": "code",
   "execution_count": 9,
   "metadata": {},
   "outputs": [],
   "source": [
    "from torchrec.datasets.utils import rand_split_train_val\n",
    "\n",
    "train_dp, val_dp = rand_split_train_val(dp, 0.9)\n",
    "batched_train_dp = train_dp.shuffle(buffer_size=int(1e5)).batch(8192)\n",
    "batched_val_dp = val_dp.batch(8192)"
   ]
  },
  {
   "cell_type": "markdown",
   "metadata": {},
   "source": [
    "Turns out that the integer user ids and movie ids referenced by the dataset aren't contiguous. Let's remap them to contiguous values so that we can use them with `torch.nn.Embedding` more easily downstream.\n",
    "\n",
    "To do so, we first populate dictionaries that map movie and user ids to ids in contiguous ranges"
   ]
  },
  {
   "cell_type": "code",
   "execution_count": 10,
   "metadata": {},
   "outputs": [],
   "source": [
    "# contig_movie_ids = {}\n",
    "# contig_user_ids = {}\n",
    "# movie_id_to_title_genre = {}\n",
    "\n",
    "# available_movie_id = 0\n",
    "# available_user_id = 0\n",
    "# for sample in dp:\n",
    "#     if sample[\"movieId\"] not in contig_movie_ids:\n",
    "#         contig_movie_ids[sample[\"movieId\"]] = available_movie_id\n",
    "#         available_movie_id += 1\n",
    "#     if sample[\"userId\"] not in contig_user_ids:\n",
    "#         contig_user_ids[sample[\"userId\"]] = available_user_id\n",
    "#         available_user_id += 1\n",
    "#     movie_id_to_title_genre[sample[\"movieId\"]] = (sample[\"title\"], sample[\"genres\"])"
   ]
  },
  {
   "cell_type": "markdown",
   "metadata": {},
   "source": [
    ", and then define a function `_transform` that uses those dictionaries to remap movie and user ids for a batch of data. While we're at it, we'll also have `_transform` reformat the batch as tensors representing user ids, movie ids, and labels (numerical movie ratings given by users)."
   ]
  },
  {
   "cell_type": "code",
   "execution_count": 11,
   "metadata": {},
   "outputs": [],
   "source": [
    "unique_user_ids_num = 162541\n",
    "unique_movie_ids_num = 59047"
   ]
  },
  {
   "cell_type": "code",
   "execution_count": 12,
   "metadata": {},
   "outputs": [],
   "source": [
    "import torch\n",
    "from threading import Lock\n",
    "\n",
    "class Transform(object):\n",
    "    def __init__(self):\n",
    "        self._contig_movie_ids = {}\n",
    "        self._contig_user_ids = {}\n",
    "        self._movie_id_to_title_genre = {}\n",
    "        \n",
    "        self._lock = Lock()\n",
    "        self._available_movie_id = 0\n",
    "        self._available_user_id = 0\n",
    "    \n",
    "    def __call__(self, batch):\n",
    "        self._update_ids(batch)\n",
    "        return self._transform(batch)\n",
    "        \n",
    "    def _update_ids(self, batch):\n",
    "        with self._lock:\n",
    "            for sample in batch:\n",
    "                if sample[\"movieId\"] not in self._contig_movie_ids:\n",
    "                    self._contig_movie_ids[sample[\"movieId\"]] = self._available_movie_id\n",
    "                    self._available_movie_id += 1\n",
    "                if sample[\"userId\"] not in self._contig_user_ids:\n",
    "                    self._contig_user_ids[sample[\"userId\"]] = self._available_user_id\n",
    "                    self._available_user_id += 1\n",
    "                self._movie_id_to_title_genre[sample[\"movieId\"]] = (sample[\"title\"], sample[\"genres\"])\n",
    "    \n",
    "    def _transform(self, batch):\n",
    "        user_ids = torch.tensor([self._contig_user_ids[sample[\"userId\"]] for sample in batch], dtype=torch.int32)\n",
    "        movie_ids = torch.tensor([self._contig_movie_ids[sample[\"movieId\"]] for sample in batch], dtype=torch.int32)\n",
    "        labels = torch.tensor([sample[\"rating\"] for sample in batch], dtype=torch.float)\n",
    "        return user_ids, movie_ids, labels\n",
    "            \n",
    "\n",
    "# def _transform(batch):\n",
    "#     user_ids = torch.tensor([contig_user_ids[sample[\"userId\"]] for sample in batch], dtype=torch.int32)\n",
    "#     movie_ids = torch.tensor([contig_movie_ids[sample[\"movieId\"]] for sample in batch], dtype=torch.int32)\n",
    "#     labels = torch.tensor([sample[\"rating\"] for sample in batch], dtype=torch.float)\n",
    "#     return user_ids, movie_ids, labels\n",
    "\n",
    "_transform = Transform()"
   ]
  },
  {
   "cell_type": "markdown",
   "metadata": {},
   "source": [
    "Finally, we configure our training and validation datapipes to apply `_transform` to each batch of data using `map`."
   ]
  },
  {
   "cell_type": "code",
   "execution_count": 13,
   "metadata": {},
   "outputs": [],
   "source": [
    "preproc_train_dp = batched_train_dp.map(_transform)\n",
    "preproc_val_dp = batched_val_dp.map(_transform)"
   ]
  },
  {
   "cell_type": "markdown",
   "metadata": {},
   "source": [
    "At this point, `preproc_train_dp` and `preproc_val_dp` are set up to produce the data that our model expects."
   ]
  },
  {
   "cell_type": "code",
   "execution_count": 14,
   "metadata": {},
   "outputs": [
    {
     "data": {
      "text/plain": [
       "(tensor([  0,   0,   1,  ...,  27,  53, 109], dtype=torch.int32),\n",
       " tensor([   0,    1,    2,  ...,  515, 3289, 1688], dtype=torch.int32),\n",
       " tensor([3.5000, 4.0000, 5.0000,  ..., 4.5000, 4.5000, 5.0000]))"
      ]
     },
     "execution_count": 14,
     "metadata": {},
     "output_type": "execute_result"
    }
   ],
   "source": [
    "next(iter(preproc_train_dp))"
   ]
  },
  {
   "cell_type": "markdown",
   "metadata": {},
   "source": [
    "## 2. Defining model\n",
    "\n",
    "Next, we define the model we're going to train. We'll go with a simplified two-tower model `TwoTowerModel` resembling a matrix factorization model that attempts to learn a low-rank approximation of the user-movie ratings matrix. More specifically, we want to find matrices $U \\in \\mathbb{R}^{u \\times d}$ and $M \\in \\mathbb{R}^{m \\times d}$ such that $U M^T \\approx A$, where each row in $U$ represents a user embedding of dimension $d$ and each row in $M$ a movie embedding also of dimension $d$. Once we find matrices $U$ and $M$, we can infer the rating that the $i$-th user gives the $j$-th movie as $u_i^T \\cdot m_j^T$, i.e. the dot product of the $i$-th row in $U$ and $j$-th row in $M$.\n",
    "\n",
    "`TwoTowerModel` represents $U$ and $M$ as embedding tables — instances of `torch.nn.Embedding`."
   ]
  },
  {
   "cell_type": "code",
   "execution_count": 15,
   "metadata": {},
   "outputs": [],
   "source": [
    "class TwoTowerModel(torch.nn.Module):\n",
    "    def __init__(self, num_embeddings_0, num_embeddings_1, embedding_dim):\n",
    "        super().__init__()\n",
    "        self.model_0 = torch.nn.Embedding(num_embeddings_0, embedding_dim)\n",
    "        self.model_1 = torch.nn.Embedding(num_embeddings_1, embedding_dim)\n",
    "    \n",
    "    def forward(self, input):\n",
    "        embeddings_0 = self.model_0(input[0])\n",
    "        embeddings_1 = self.model_1(input[1])\n",
    "        return torch.sum(embeddings_0 * embeddings_1, axis=1)"
   ]
  },
  {
   "cell_type": "markdown",
   "metadata": {},
   "source": [
    "## 3. Training and evaluating model\n",
    "We're ready to train our model. Let's instantiate the model we just defined"
   ]
  },
  {
   "cell_type": "code",
   "execution_count": 16,
   "metadata": {},
   "outputs": [],
   "source": [
    "model = TwoTowerModel(\n",
    "    unique_user_ids_num, #len(contig_user_ids),\n",
    "    unique_movie_ids_num, #len(contig_movie_ids),\n",
    "    32\n",
    ")"
   ]
  },
  {
   "cell_type": "markdown",
   "metadata": {},
   "source": [
    ", instantiate our loss function and optimizer"
   ]
  },
  {
   "cell_type": "code",
   "execution_count": 17,
   "metadata": {},
   "outputs": [],
   "source": [
    "loss_fn = torch.nn.MSELoss()\n",
    "optimizer = torch.optim.SGD(model.parameters(), lr=0.1, momentum=0.9, weight_decay=1e-6)"
   ]
  },
  {
   "cell_type": "markdown",
   "metadata": {},
   "source": [
    ", and define our train and test loops."
   ]
  },
  {
   "cell_type": "code",
   "execution_count": 18,
   "metadata": {},
   "outputs": [],
   "source": [
    "def train_loop(dp, model, loss_fn, optimizer):\n",
    "    for batch, (users, movies, labels) in enumerate(dp):\n",
    "        pred = model((users, movies))\n",
    "        loss = loss_fn(pred, labels)\n",
    "\n",
    "        optimizer.zero_grad()\n",
    "        loss.backward()\n",
    "        optimizer.step()\n",
    "\n",
    "        if batch % 100 == 0:\n",
    "            loss, current = loss.item(), batch * len(labels)\n",
    "            print(f\"loss: {loss:>7f}; batch: {batch}\")\n",
    "\n",
    "def test_loop(dp, model, loss_fn):\n",
    "    test_loss = 0\n",
    "    batch_count = 0\n",
    "    with torch.no_grad():\n",
    "        for batch, (users, movies, labels) in enumerate(dp):\n",
    "            pred = model((users, movies))\n",
    "            test_loss += loss_fn(pred, labels).item()\n",
    "            batch_count += 1\n",
    "    \n",
    "    print(f\"Test loss: {test_loss / batch_count}\")"
   ]
  },
  {
   "cell_type": "markdown",
   "metadata": {},
   "source": [
    "And now, we train."
   ]
  },
  {
   "cell_type": "code",
   "execution_count": null,
   "metadata": {},
   "outputs": [
    {
     "name": "stdout",
     "output_type": "stream",
     "text": [
      "loss: 45.422134; batch: 0\n",
      "loss: 38.413521; batch: 100\n",
      "loss: 34.630333; batch: 200\n",
      "loss: 30.334789; batch: 300\n",
      "loss: 30.588533; batch: 400\n",
      "loss: 27.773775; batch: 500\n",
      "loss: 27.661900; batch: 600\n",
      "loss: 26.092945; batch: 700\n"
     ]
    }
   ],
   "source": [
    "epochs = 3\n",
    "\n",
    "for __ in range(epochs):\n",
    "    train_loop(preproc_train_dp, model, loss_fn, optimizer)\n",
    "    test_loop(preproc_val_dp, model, loss_fn)"
   ]
  },
  {
   "cell_type": "markdown",
   "metadata": {},
   "source": [
    "We've got a trained model!"
   ]
  },
  {
   "cell_type": "markdown",
   "metadata": {},
   "source": [
    "## 4. Finding similar movies\n",
    "For kicks, let's see if we can use our model's trained embeddings to find movies that are most similar to some query movie. In theory, movies with embeddings that are similar should themselves be similar."
   ]
  },
  {
   "cell_type": "code",
   "execution_count": 36,
   "metadata": {},
   "outputs": [],
   "source": [
    "movie_id_to_title_genre = _transform._movie_id_to_title_genre\n",
    "contig_to_movie_id = {v: k for k, v in _transform._contig_movie_ids.items()}\n"
   ]
  },
  {
   "cell_type": "code",
   "execution_count": 37,
   "metadata": {},
   "outputs": [],
   "source": [
    "# contig_to_movie_id = {v: k for k, v in contig_movie_ids.items()}\n",
    "\n",
    "def get_topk_sim_movies(movie_id, k=20):\n",
    "    embedding = model.model_1(torch.tensor([contig_movie_ids[movie_id]]))\n",
    "    movie_embeddings = model.get_parameter(\"model_1.weight\")\n",
    "    movie_similarities = torch.sum(embedding * movie_embeddings, axis=1) / torch.maximum(torch.norm(embedding) * torch.norm(movie_embeddings, dim=1), torch.ones(movie_embeddings.shape[0]) * 1e-12)\n",
    "    topk_sim = torch.topk(movie_similarities, 20)\n",
    "    contig_ids = topk_sim.indices.tolist()\n",
    "    return [\n",
    "        (*movie_id_to_title_genre[contig_to_movie_id[movie_id]], contig_to_movie_id[movie_id]) \n",
    "        for movie_id in contig_ids\n",
    "    ]"
   ]
  },
  {
   "cell_type": "code",
   "execution_count": 38,
   "metadata": {},
   "outputs": [
    {
     "ename": "KeyError",
     "evalue": "45881",
     "output_type": "error",
     "traceback": [
      "\u001b[0;31m---------------------------------------------------------------------------\u001b[0m",
      "\u001b[0;31mKeyError\u001b[0m                                  Traceback (most recent call last)",
      "Input \u001b[0;32mIn [38]\u001b[0m, in \u001b[0;36m<cell line: 2>\u001b[0;34m()\u001b[0m\n\u001b[1;32m      1\u001b[0m \u001b[38;5;66;03m# Drive\u001b[39;00m\n\u001b[0;32m----> 2\u001b[0m \u001b[43mget_topk_sim_movies\u001b[49m\u001b[43m(\u001b[49m\u001b[38;5;241;43m88129\u001b[39;49m\u001b[43m)\u001b[49m\n",
      "Input \u001b[0;32mIn [37]\u001b[0m, in \u001b[0;36mget_topk_sim_movies\u001b[0;34m(movie_id, k)\u001b[0m\n\u001b[1;32m      7\u001b[0m topk_sim \u001b[38;5;241m=\u001b[39m torch\u001b[38;5;241m.\u001b[39mtopk(movie_similarities, \u001b[38;5;241m20\u001b[39m)\n\u001b[1;32m      8\u001b[0m contig_ids \u001b[38;5;241m=\u001b[39m topk_sim\u001b[38;5;241m.\u001b[39mindices\u001b[38;5;241m.\u001b[39mtolist()\n\u001b[0;32m----> 9\u001b[0m \u001b[38;5;28;01mreturn\u001b[39;00m [\n\u001b[1;32m     10\u001b[0m     (\u001b[38;5;241m*\u001b[39mmovie_id_to_title_genre[contig_to_movie_id[movie_id]], contig_to_movie_id[movie_id]) \n\u001b[1;32m     11\u001b[0m     \u001b[38;5;28;01mfor\u001b[39;00m movie_id \u001b[38;5;129;01min\u001b[39;00m contig_ids\n\u001b[1;32m     12\u001b[0m ]\n",
      "Input \u001b[0;32mIn [37]\u001b[0m, in \u001b[0;36m<listcomp>\u001b[0;34m(.0)\u001b[0m\n\u001b[1;32m      7\u001b[0m topk_sim \u001b[38;5;241m=\u001b[39m torch\u001b[38;5;241m.\u001b[39mtopk(movie_similarities, \u001b[38;5;241m20\u001b[39m)\n\u001b[1;32m      8\u001b[0m contig_ids \u001b[38;5;241m=\u001b[39m topk_sim\u001b[38;5;241m.\u001b[39mindices\u001b[38;5;241m.\u001b[39mtolist()\n\u001b[1;32m      9\u001b[0m \u001b[38;5;28;01mreturn\u001b[39;00m [\n\u001b[0;32m---> 10\u001b[0m     (\u001b[38;5;241m*\u001b[39mmovie_id_to_title_genre[\u001b[43mcontig_to_movie_id\u001b[49m\u001b[43m[\u001b[49m\u001b[43mmovie_id\u001b[49m\u001b[43m]\u001b[49m], contig_to_movie_id[movie_id]) \n\u001b[1;32m     11\u001b[0m     \u001b[38;5;28;01mfor\u001b[39;00m movie_id \u001b[38;5;129;01min\u001b[39;00m contig_ids\n\u001b[1;32m     12\u001b[0m ]\n",
      "\u001b[0;31mKeyError\u001b[0m: 45881"
     ]
    }
   ],
   "source": [
    "# Drive\n",
    "get_topk_sim_movies(88129)"
   ]
  },
  {
   "cell_type": "code",
   "execution_count": 18,
   "metadata": {},
   "outputs": [
    {
     "data": {
      "text/plain": [
       "[('Lost in Translation (2003)', 'Comedy|Drama|Romance', 6711),\n",
       " ('Blade (1998)', 'Action|Horror|Thriller', 2167),\n",
       " ('O Brother, Where Art Thou? (2000)', 'Adventure|Comedy|Crime', 4027),\n",
       " ('Minority Report (2002)', 'Action|Crime|Mystery|Sci-Fi|Thriller', 5445),\n",
       " ('Bowling for Columbine (2002)', 'Documentary', 5669),\n",
       " ('Lord of War (2005)', 'Action|Crime|Drama|Thriller|War', 36529),\n",
       " ('Dark City (1998)', 'Adventure|Film-Noir|Sci-Fi|Thriller', 1748),\n",
       " ('Rocky (1976)', 'Drama', 1954),\n",
       " ('Best in Show (2000)', 'Comedy', 3911),\n",
       " ('Deliverance (1972)', 'Adventure|Drama|Thriller', 2871),\n",
       " ('Eternal Sunshine of the Spotless Mind (2004)',\n",
       "  'Drama|Romance|Sci-Fi',\n",
       "  7361),\n",
       " ('Crouching Tiger, Hidden Dragon (Wo hu cang long) (2000)',\n",
       "  'Action|Drama|Romance',\n",
       "  3996),\n",
       " ('Fahrenheit 9/11 (2004)', 'Documentary', 8622),\n",
       " ('Back to the Future Part III (1990)',\n",
       "  'Adventure|Comedy|Sci-Fi|Western',\n",
       "  2012),\n",
       " ('Boogie Nights (1997)', 'Drama', 1673),\n",
       " ('Run Lola Run (Lola rennt) (1998)', 'Action|Crime', 2692),\n",
       " ('Con Air (1997)', 'Action|Adventure|Thriller', 1552),\n",
       " (\"Ocean's Eleven (2001)\", 'Crime|Thriller', 4963),\n",
       " ('Austin Powers: International Man of Mystery (1997)',\n",
       "  'Action|Adventure|Comedy',\n",
       "  1517),\n",
       " ('Bad Boys (1995)', 'Action|Comedy|Crime|Drama|Thriller', 145)]"
      ]
     },
     "execution_count": 18,
     "metadata": {
      "bento_obj_id": "139906355972864"
     },
     "output_type": "execute_result"
    }
   ],
   "source": [
    "# Lost in Translation\n",
    "get_topk_sim_movies(6711)"
   ]
  },
  {
   "cell_type": "code",
   "execution_count": 21,
   "metadata": {},
   "outputs": [
    {
     "data": {
      "text/plain": [
       "[('Ratatouille (2007)', 'Animation|Children|Drama', 50872),\n",
       " ('Harry Potter and the Goblet of Fire (2005)',\n",
       "  'Adventure|Fantasy|Thriller|IMAX',\n",
       "  40815),\n",
       " ('Toy Story 2 (1999)', 'Adventure|Animation|Children|Comedy|Fantasy', 3114),\n",
       " ('Ice Age (2002)', 'Adventure|Animation|Children|Comedy', 5218),\n",
       " ('Monsters, Inc. (2001)',\n",
       "  'Adventure|Animation|Children|Comedy|Fantasy',\n",
       "  4886),\n",
       " ('Harry Potter and the Chamber of Secrets (2002)', 'Adventure|Fantasy', 5816),\n",
       " ('Wedding Singer, The (1998)', 'Comedy|Romance', 1777),\n",
       " ('Armageddon (1998)', 'Action|Romance|Sci-Fi|Thriller', 1917),\n",
       " ('WALL·E (2008)', 'Adventure|Animation|Children|Romance|Sci-Fi', 60069),\n",
       " ('Finding Nemo (2003)', 'Adventure|Animation|Children|Comedy', 6377),\n",
       " ('Indiana Jones and the Temple of Doom (1984)',\n",
       "  'Action|Adventure|Fantasy',\n",
       "  2115),\n",
       " ('Signs (2002)', 'Horror|Sci-Fi|Thriller', 5502),\n",
       " ('Toy Story 3 (2010)',\n",
       "  'Adventure|Animation|Children|Comedy|Fantasy|IMAX',\n",
       "  78499),\n",
       " ('My Big Fat Greek Wedding (2002)', 'Comedy|Romance', 5299),\n",
       " ('Harry Potter and the Prisoner of Azkaban (2004)',\n",
       "  'Adventure|Fantasy|IMAX',\n",
       "  8368),\n",
       " ('Star Wars: Episode VI - Return of the Jedi (1983)',\n",
       "  'Action|Adventure|Sci-Fi',\n",
       "  1210),\n",
       " ('Black Hawk Down (2001)', 'Action|Drama|War', 5010),\n",
       " (\"Harry Potter and the Sorcerer's Stone (a.k.a. Harry Potter and the Philosopher's Stone) (2001)\",\n",
       "  'Adventure|Children|Fantasy',\n",
       "  4896),\n",
       " ('Big Hero 6 (2014)', 'Action|Animation|Comedy', 115617),\n",
       " ('Hot Fuzz (2007)', 'Action|Comedy|Crime|Mystery', 51255)]"
      ]
     },
     "execution_count": 21,
     "metadata": {
      "bento_obj_id": "139905661210368"
     },
     "output_type": "execute_result"
    }
   ],
   "source": [
    "# Ratatouille\n",
    "get_topk_sim_movies(50872)"
   ]
  },
  {
   "cell_type": "markdown",
   "metadata": {},
   "source": [
    "What do you think? Can we do better?"
   ]
  }
 ],
 "metadata": {
  "bento_stylesheets": {
   "bento/extensions/flow/main.css": true,
   "bento/extensions/kernel_selector/main.css": true,
   "bento/extensions/kernel_ui/main.css": true,
   "bento/extensions/new_kernel/main.css": true,
   "bento/extensions/system_usage/main.css": true,
   "bento/extensions/theme/main.css": true
  },
  "disseminate_notebook_id": {
   "notebook_id": "552815895724328"
  },
  "disseminate_notebook_info": {
   "bento_version": "20210627-210324",
   "description": "",
   "hide_code": false,
   "hipster_group": "",
   "kernel_build_info": {
    "deps": [
     "//caffe2/caffe2/fb/ifbpy:all_pytorch_and_caffe2_deps",
     "//github/third-party/PyTorchLightning/pytorch-lightning:lib"
    ],
    "external_deps": []
   },
   "no_uii": true,
   "notebook_number": "954867",
   "others_can_edit": false,
   "reviewers": "",
   "revision_id": "489172452146612",
   "tags": "",
   "tasks": "",
   "title": "torchrec movielens"
  },
  "kernelspec": {
   "display_name": "Python 3 (ipykernel)",
   "language": "python",
   "name": "python3"
  },
  "language_info": {
   "codemirror_mode": {
    "name": "ipython",
    "version": 3
   },
   "file_extension": ".py",
   "mimetype": "text/x-python",
   "name": "python",
   "nbconvert_exporter": "python",
   "pygments_lexer": "ipython3",
   "version": "3.9.5"
  }
 },
 "nbformat": 4,
 "nbformat_minor": 2
}
